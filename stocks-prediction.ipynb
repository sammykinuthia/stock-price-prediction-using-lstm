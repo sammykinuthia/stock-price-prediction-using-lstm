{
 "cells": [
  {
   "attachments": {},
   "cell_type": "markdown",
   "metadata": {},
   "source": [
    "# stocks price prediction using LSTM\n",
    "this project is part of my course work at Karatina University, empasizes the use of artificial Intelligence specifically LSTM RNN architecture for predicting the prices of stocks. "
   ]
  },
  {
   "attachments": {},
   "cell_type": "markdown",
   "metadata": {},
   "source": [
    "## importing of libralies"
   ]
  },
  {
   "cell_type": "code",
   "execution_count": 2,
   "metadata": {},
   "outputs": [
    {
     "name": "stderr",
     "output_type": "stream",
     "text": [
      "2023-05-11 05:57:49.066321: I tensorflow/core/platform/cpu_feature_guard.cc:193] This TensorFlow binary is optimized with oneAPI Deep Neural Network Library (oneDNN) to use the following CPU instructions in performance-critical operations:  AVX2 FMA\n",
      "To enable them in other operations, rebuild TensorFlow with the appropriate compiler flags.\n",
      "2023-05-11 05:57:49.208971: W tensorflow/compiler/xla/stream_executor/platform/default/dso_loader.cc:64] Could not load dynamic library 'libcudart.so.11.0'; dlerror: libcudart.so.11.0: cannot open shared object file: No such file or directory\n",
      "2023-05-11 05:57:49.208994: I tensorflow/compiler/xla/stream_executor/cuda/cudart_stub.cc:29] Ignore above cudart dlerror if you do not have a GPU set up on your machine.\n",
      "2023-05-11 05:57:49.917900: W tensorflow/compiler/xla/stream_executor/platform/default/dso_loader.cc:64] Could not load dynamic library 'libnvinfer.so.7'; dlerror: libnvinfer.so.7: cannot open shared object file: No such file or directory\n",
      "2023-05-11 05:57:49.917976: W tensorflow/compiler/xla/stream_executor/platform/default/dso_loader.cc:64] Could not load dynamic library 'libnvinfer_plugin.so.7'; dlerror: libnvinfer_plugin.so.7: cannot open shared object file: No such file or directory\n",
      "2023-05-11 05:57:49.917986: W tensorflow/compiler/tf2tensorrt/utils/py_utils.cc:38] TF-TRT Warning: Cannot dlopen some TensorRT libraries. If you would like to use Nvidia GPU with TensorRT, please make sure the missing libraries mentioned above are installed properly.\n"
     ]
    }
   ],
   "source": [
    "import tensorflow as tf\n",
    "from tensorflow.keras.models import Sequential\n",
    "from tensorflow.keras.layers import Dense, Dropout, Activation, Flatten, LSTM\n",
    "import numpy as np\n",
    "import matplotlib.pyplot as plt\n",
    "import pandas as pd\n",
    "import os\n",
    "import time\n",
    "import joblib\n",
    "from datetime import datetime, timedelta\n",
    "from sklearn.preprocessing import MinMaxScaler\n",
    "from sklearn.metrics import mean_squared_error\n"
   ]
  },
  {
   "attachments": {},
   "cell_type": "markdown",
   "metadata": {},
   "source": [
    "## fetching data from yahoo finance using pandas_datareader\n"
   ]
  },
  {
   "cell_type": "code",
   "execution_count": 5,
   "metadata": {},
   "outputs": [
    {
     "name": "stdout",
     "output_type": "stream",
     "text": [
      "[*********************100%***********************]  1 of 1 completed\n",
      "(2517, 6)\n"
     ]
    },
    {
     "data": {
      "text/html": [
       "<div>\n",
       "<style scoped>\n",
       "    .dataframe tbody tr th:only-of-type {\n",
       "        vertical-align: middle;\n",
       "    }\n",
       "\n",
       "    .dataframe tbody tr th {\n",
       "        vertical-align: top;\n",
       "    }\n",
       "\n",
       "    .dataframe thead th {\n",
       "        text-align: right;\n",
       "    }\n",
       "</style>\n",
       "<table border=\"1\" class=\"dataframe\">\n",
       "  <thead>\n",
       "    <tr style=\"text-align: right;\">\n",
       "      <th></th>\n",
       "      <th>Open</th>\n",
       "      <th>High</th>\n",
       "      <th>Low</th>\n",
       "      <th>Close</th>\n",
       "      <th>Adj Close</th>\n",
       "      <th>Volume</th>\n",
       "    </tr>\n",
       "    <tr>\n",
       "      <th>Date</th>\n",
       "      <th></th>\n",
       "      <th></th>\n",
       "      <th></th>\n",
       "      <th></th>\n",
       "      <th></th>\n",
       "      <th></th>\n",
       "    </tr>\n",
       "  </thead>\n",
       "  <tbody>\n",
       "    <tr>\n",
       "      <th>2013-03-04</th>\n",
       "      <td>15.278571</td>\n",
       "      <td>15.292857</td>\n",
       "      <td>14.964286</td>\n",
       "      <td>15.001786</td>\n",
       "      <td>12.956762</td>\n",
       "      <td>582755600</td>\n",
       "    </tr>\n",
       "    <tr>\n",
       "      <th>2013-03-05</th>\n",
       "      <td>15.052857</td>\n",
       "      <td>15.542500</td>\n",
       "      <td>15.026786</td>\n",
       "      <td>15.397857</td>\n",
       "      <td>13.298839</td>\n",
       "      <td>638433600</td>\n",
       "    </tr>\n",
       "    <tr>\n",
       "      <th>2013-03-06</th>\n",
       "      <td>15.518214</td>\n",
       "      <td>15.544643</td>\n",
       "      <td>15.158214</td>\n",
       "      <td>15.202143</td>\n",
       "      <td>13.129807</td>\n",
       "      <td>460250000</td>\n",
       "    </tr>\n",
       "    <tr>\n",
       "      <th>2013-03-07</th>\n",
       "      <td>15.160714</td>\n",
       "      <td>15.428929</td>\n",
       "      <td>15.037857</td>\n",
       "      <td>15.377857</td>\n",
       "      <td>13.281566</td>\n",
       "      <td>468473600</td>\n",
       "    </tr>\n",
       "    <tr>\n",
       "      <th>2013-03-08</th>\n",
       "      <td>15.350000</td>\n",
       "      <td>15.551071</td>\n",
       "      <td>15.307500</td>\n",
       "      <td>15.418571</td>\n",
       "      <td>13.316730</td>\n",
       "      <td>391482000</td>\n",
       "    </tr>\n",
       "  </tbody>\n",
       "</table>\n",
       "</div>"
      ],
      "text/plain": [
       "                 Open       High        Low      Close  Adj Close     Volume\n",
       "Date                                                                        \n",
       "2013-03-04  15.278571  15.292857  14.964286  15.001786  12.956762  582755600\n",
       "2013-03-05  15.052857  15.542500  15.026786  15.397857  13.298839  638433600\n",
       "2013-03-06  15.518214  15.544643  15.158214  15.202143  13.129807  460250000\n",
       "2013-03-07  15.160714  15.428929  15.037857  15.377857  13.281566  468473600\n",
       "2013-03-08  15.350000  15.551071  15.307500  15.418571  13.316730  391482000"
      ]
     },
     "execution_count": 5,
     "metadata": {},
     "output_type": "execute_result"
    }
   ],
   "source": [
    "from pandas_datareader.data import DataReader\n",
    "import yfinance as yf\n",
    "from pandas_datareader import data as pdr\n",
    "\n",
    "yf.pdr_override()\n",
    "\n",
    "\n",
    "end = datetime.now()\n",
    "end = end - timedelta(weeks=10)\n",
    "start = datetime(end.year - 10, end.month, end.day)\n",
    "\n",
    "\n",
    "def get_data(ticker, start, end):\n",
    "    df = pdr.get_data_yahoo(ticker, start, end)\n",
    "    return df\n",
    "df = get_data('AAPL', start, end)\n",
    "print(df.shape)\n",
    "df.head()"
   ]
  },
  {
   "attachments": {},
   "cell_type": "markdown",
   "metadata": {},
   "source": [
    "## Describing the data statistically\n",
    "Through this we are able to see the destribution of our data i.e., standard deviation along the mean and other useful insights"
   ]
  },
  {
   "cell_type": "code",
   "execution_count": 28,
   "metadata": {},
   "outputs": [
    {
     "data": {
      "text/html": [
       "<div>\n",
       "<style scoped>\n",
       "    .dataframe tbody tr th:only-of-type {\n",
       "        vertical-align: middle;\n",
       "    }\n",
       "\n",
       "    .dataframe tbody tr th {\n",
       "        vertical-align: top;\n",
       "    }\n",
       "\n",
       "    .dataframe thead th {\n",
       "        text-align: right;\n",
       "    }\n",
       "</style>\n",
       "<table border=\"1\" class=\"dataframe\">\n",
       "  <thead>\n",
       "    <tr style=\"text-align: right;\">\n",
       "      <th></th>\n",
       "      <th>Open</th>\n",
       "      <th>High</th>\n",
       "      <th>Low</th>\n",
       "      <th>Close</th>\n",
       "      <th>Adj Close</th>\n",
       "      <th>Volume</th>\n",
       "    </tr>\n",
       "  </thead>\n",
       "  <tbody>\n",
       "    <tr>\n",
       "      <th>count</th>\n",
       "      <td>2517.000000</td>\n",
       "      <td>2517.000000</td>\n",
       "      <td>2517.000000</td>\n",
       "      <td>2517.000000</td>\n",
       "      <td>2517.000000</td>\n",
       "      <td>2.517000e+03</td>\n",
       "    </tr>\n",
       "    <tr>\n",
       "      <th>mean</th>\n",
       "      <td>64.395385</td>\n",
       "      <td>65.130243</td>\n",
       "      <td>63.691418</td>\n",
       "      <td>64.440035</td>\n",
       "      <td>62.603707</td>\n",
       "      <td>1.633913e+08</td>\n",
       "    </tr>\n",
       "    <tr>\n",
       "      <th>std</th>\n",
       "      <td>49.366029</td>\n",
       "      <td>50.022464</td>\n",
       "      <td>48.734355</td>\n",
       "      <td>49.406898</td>\n",
       "      <td>49.900580</td>\n",
       "      <td>1.115887e+08</td>\n",
       "    </tr>\n",
       "    <tr>\n",
       "      <th>min</th>\n",
       "      <td>13.856071</td>\n",
       "      <td>14.271429</td>\n",
       "      <td>13.753571</td>\n",
       "      <td>13.947500</td>\n",
       "      <td>12.046190</td>\n",
       "      <td>3.519590e+07</td>\n",
       "    </tr>\n",
       "    <tr>\n",
       "      <th>25%</th>\n",
       "      <td>27.375000</td>\n",
       "      <td>27.625000</td>\n",
       "      <td>27.132500</td>\n",
       "      <td>27.372499</td>\n",
       "      <td>25.116194</td>\n",
       "      <td>9.000920e+07</td>\n",
       "    </tr>\n",
       "    <tr>\n",
       "      <th>50%</th>\n",
       "      <td>42.599998</td>\n",
       "      <td>42.962502</td>\n",
       "      <td>42.255001</td>\n",
       "      <td>42.602501</td>\n",
       "      <td>40.615101</td>\n",
       "      <td>1.277524e+08</td>\n",
       "    </tr>\n",
       "    <tr>\n",
       "      <th>75%</th>\n",
       "      <td>113.205002</td>\n",
       "      <td>115.230003</td>\n",
       "      <td>110.889999</td>\n",
       "      <td>112.820000</td>\n",
       "      <td>111.120071</td>\n",
       "      <td>1.989904e+08</td>\n",
       "    </tr>\n",
       "    <tr>\n",
       "      <th>max</th>\n",
       "      <td>182.630005</td>\n",
       "      <td>182.940002</td>\n",
       "      <td>179.119995</td>\n",
       "      <td>182.009995</td>\n",
       "      <td>180.683853</td>\n",
       "      <td>1.065523e+09</td>\n",
       "    </tr>\n",
       "  </tbody>\n",
       "</table>\n",
       "</div>"
      ],
      "text/plain": [
       "              Open         High          Low        Close    Adj Close  \\\n",
       "count  2517.000000  2517.000000  2517.000000  2517.000000  2517.000000   \n",
       "mean     64.395385    65.130243    63.691418    64.440035    62.603707   \n",
       "std      49.366029    50.022464    48.734355    49.406898    49.900580   \n",
       "min      13.856071    14.271429    13.753571    13.947500    12.046190   \n",
       "25%      27.375000    27.625000    27.132500    27.372499    25.116194   \n",
       "50%      42.599998    42.962502    42.255001    42.602501    40.615101   \n",
       "75%     113.205002   115.230003   110.889999   112.820000   111.120071   \n",
       "max     182.630005   182.940002   179.119995   182.009995   180.683853   \n",
       "\n",
       "             Volume  \n",
       "count  2.517000e+03  \n",
       "mean   1.633913e+08  \n",
       "std    1.115887e+08  \n",
       "min    3.519590e+07  \n",
       "25%    9.000920e+07  \n",
       "50%    1.277524e+08  \n",
       "75%    1.989904e+08  \n",
       "max    1.065523e+09  "
      ]
     },
     "execution_count": 28,
     "metadata": {},
     "output_type": "execute_result"
    }
   ],
   "source": [
    "df.describe()"
   ]
  },
  {
   "attachments": {},
   "cell_type": "markdown",
   "metadata": {},
   "source": [
    "## Infor about the data\n",
    "We are able to visualize the formats of the data, all our data is in the correct format"
   ]
  },
  {
   "cell_type": "code",
   "execution_count": 29,
   "metadata": {},
   "outputs": [
    {
     "name": "stdout",
     "output_type": "stream",
     "text": [
      "<class 'pandas.core.frame.DataFrame'>\n",
      "DatetimeIndex: 2517 entries, 2013-03-04 to 2023-03-01\n",
      "Data columns (total 6 columns):\n",
      " #   Column     Non-Null Count  Dtype  \n",
      "---  ------     --------------  -----  \n",
      " 0   Open       2517 non-null   float64\n",
      " 1   High       2517 non-null   float64\n",
      " 2   Low        2517 non-null   float64\n",
      " 3   Close      2517 non-null   float64\n",
      " 4   Adj Close  2517 non-null   float64\n",
      " 5   Volume     2517 non-null   int64  \n",
      "dtypes: float64(5), int64(1)\n",
      "memory usage: 137.6 KB\n"
     ]
    }
   ],
   "source": [
    "df.info()"
   ]
  },
  {
   "attachments": {},
   "cell_type": "markdown",
   "metadata": {},
   "source": [
    "## Plotting the (closing price and Volume) for this symbol against time "
   ]
  },
  {
   "cell_type": "code",
   "execution_count": 30,
   "metadata": {},
   "outputs": [
    {
     "name": "stderr",
     "output_type": "stream",
     "text": [
      "/tmp/ipykernel_37935/2534222005.py:3: MatplotlibDeprecationWarning: Auto-removal of overlapping axes is deprecated since 3.6 and will be removed two minor releases later; explicitly call ax.remove() as needed.\n",
      "  top_plt = plt.subplot2grid((6, 4), (0, 0), rowspan=3, colspan=4)\n"
     ]
    },
    {
     "data": {
      "image/png": "[encoded data removed]",
      "text/plain": [
       "<Figure size 1600x1000 with 2 Axes>"
      ]
     },
     "metadata": {},
     "output_type": "display_data"
    },
    {
     "data": {
      "text/plain": [
       "<Figure size 640x480 with 0 Axes>"
      ]
     },
     "metadata": {},
     "output_type": "display_data"
    }
   ],
   "source": [
    "plt.figure(figsize=(16, 10))\n",
    "plt.title(\"AAPL (Apple stocks)\")\n",
    "top_plt = plt.subplot2grid((6, 4), (0, 0), rowspan=3, colspan=4)\n",
    "top_plt.set_ylabel(\"Value of 1 share (USD)\")\n",
    "top_plt.plot(df.index, df['Close'])\n",
    "bottom_plt = plt.subplot2grid((6, 4), (3, 0), rowspan=1, colspan=4)\n",
    "bottom_plt.bar(df.index, df['Volume'])\n",
    "bottom_plt.set_ylabel(\"volume\")\n",
    "plt.show()\n",
    "plt.tight_layout()\n"
   ]
  },
  {
   "attachments": {},
   "cell_type": "markdown",
   "metadata": {},
   "source": [
    "## feature selection\n",
    "This involves using Closing price and dropping other collumns"
   ]
  },
  {
   "cell_type": "code",
   "execution_count": 6,
   "metadata": {},
   "outputs": [
    {
     "name": "stdout",
     "output_type": "stream",
     "text": [
      "dataset shape - (2517, 1)\n",
      "training data length - 2013\n"
     ]
    }
   ],
   "source": [
    "data = df.filter(['Close'])\n",
    "dataset = data.values\n",
    "\n",
    "training_data_len = int(len(dataset) * 0.8 )\n",
    "testing_data_len = len(dataset) - training_data_len\n",
    "print(\"dataset shape -\",dataset.shape)\n",
    "print(\"training data length -\",training_data_len)"
   ]
  },
  {
   "attachments": {},
   "cell_type": "markdown",
   "metadata": {},
   "source": [
    "## Data Normalization\n",
    "This involves scalling the data into a 0-1 range"
   ]
  },
  {
   "cell_type": "code",
   "execution_count": 7,
   "metadata": {},
   "outputs": [
    {
     "name": "stdout",
     "output_type": "stream",
     "text": [
      "(2517, 1)\n"
     ]
    },
    {
     "data": {
      "text/plain": [
       "(2517, 1)"
      ]
     },
     "execution_count": 7,
     "metadata": {},
     "output_type": "execute_result"
    }
   ],
   "source": [
    "from sklearn.preprocessing import MinMaxScaler\n",
    "scaler = MinMaxScaler(feature_range=(0, 1))\n",
    "scaled = scaler.fit_transform(dataset)\n",
    "print(dataset.shape)\n",
    "scaled.shape"
   ]
  },
  {
   "attachments": {},
   "cell_type": "markdown",
   "metadata": {},
   "source": [
    "## Creating training dataset"
   ]
  },
  {
   "cell_type": "code",
   "execution_count": 8,
   "metadata": {},
   "outputs": [
    {
     "name": "stdout",
     "output_type": "stream",
     "text": [
      "[array([0.00627318, 0.00862986, 0.00746533, 0.00851086, 0.00875312,\n",
      "       0.01006003, 0.00805397, 0.00803697, 0.00891888, 0.01129044,\n",
      "       0.01385327, 0.01359189, 0.01307974, 0.01321787, 0.01516868,\n",
      "       0.01552356, 0.01500505, 0.01307974, 0.01107794, 0.00815598,\n",
      "       0.00834298, 0.0088105 , 0.00790309, 0.00694257, 0.00758221,\n",
      "       0.00774584, 0.00959677, 0.00930777, 0.00834511, 0.00623068,\n",
      "       0.00758859, 0.00260744, 0.00032301, 0.        , 0.00172979,\n",
      "       0.0033151 , 0.00317271, 0.00379323, 0.00566753, 0.00841311,\n",
      "       0.01110343, 0.01036179, 0.01168571, 0.01263348, 0.01491368,\n",
      "       0.01447803, 0.01557881, 0.01407639, 0.01326887, 0.013645  ,\n",
      "       0.01133295, 0.00814322, 0.00936088, 0.00908038, 0.01113531,\n",
      "       0.01044042, 0.01079955, 0.01096743, 0.01160708, 0.01081867])]\n",
      "[0.011564573637017558]\n",
      "\n",
      "[array([0.00627318, 0.00862986, 0.00746533, 0.00851086, 0.00875312,\n",
      "       0.01006003, 0.00805397, 0.00803697, 0.00891888, 0.01129044,\n",
      "       0.01385327, 0.01359189, 0.01307974, 0.01321787, 0.01516868,\n",
      "       0.01552356, 0.01500505, 0.01307974, 0.01107794, 0.00815598,\n",
      "       0.00834298, 0.0088105 , 0.00790309, 0.00694257, 0.00758221,\n",
      "       0.00774584, 0.00959677, 0.00930777, 0.00834511, 0.00623068,\n",
      "       0.00758859, 0.00260744, 0.00032301, 0.        , 0.00172979,\n",
      "       0.0033151 , 0.00317271, 0.00379323, 0.00566753, 0.00841311,\n",
      "       0.01110343, 0.01036179, 0.01168571, 0.01263348, 0.01491368,\n",
      "       0.01447803, 0.01557881, 0.01407639, 0.01326887, 0.013645  ,\n",
      "       0.01133295, 0.00814322, 0.00936088, 0.00908038, 0.01113531,\n",
      "       0.01044042, 0.01079955, 0.01096743, 0.01160708, 0.01081867]), array([0.00862986, 0.00746533, 0.00851086, 0.00875312, 0.01006003,\n",
      "       0.00805397, 0.00803697, 0.00891888, 0.01129044, 0.01385327,\n",
      "       0.01359189, 0.01307974, 0.01321787, 0.01516868, 0.01552356,\n",
      "       0.01500505, 0.01307974, 0.01107794, 0.00815598, 0.00834298,\n",
      "       0.0088105 , 0.00790309, 0.00694257, 0.00758221, 0.00774584,\n",
      "       0.00959677, 0.00930777, 0.00834511, 0.00623068, 0.00758859,\n",
      "       0.00260744, 0.00032301, 0.        , 0.00172979, 0.0033151 ,\n",
      "       0.00317271, 0.00379323, 0.00566753, 0.00841311, 0.01110343,\n",
      "       0.01036179, 0.01168571, 0.01263348, 0.01491368, 0.01447803,\n",
      "       0.01557881, 0.01407639, 0.01326887, 0.013645  , 0.01133295,\n",
      "       0.00814322, 0.00936088, 0.00908038, 0.01113531, 0.01044042,\n",
      "       0.01079955, 0.01096743, 0.01160708, 0.01081867, 0.01156457])]\n",
      "[0.011564573637017558, 0.01297348934833778]\n",
      "\n"
     ]
    }
   ],
   "source": [
    "\n",
    "train_data = scaled[0:int(training_data_len), :]\n",
    "# Split the data into x_train and y_train data sets\n",
    "x_train = []\n",
    "y_train = []\n",
    "\n",
    "for i in range(60, len(train_data)):\n",
    "    x_train.append(train_data[i-60:i, 0])\n",
    "    y_train.append(train_data[i, 0])\n",
    "    if i <= 61:\n",
    "        print(x_train)\n",
    "        print(y_train)\n",
    "        print()\n",
    "\n",
    "# Convert the x_train and y_train to numpy arrays\n",
    "x_train, y_train = np.array(x_train), np.array(y_train)\n",
    "\n",
    "# Reshape the data\n",
    "x_train = np.reshape(x_train, (x_train.shape[0], x_train.shape[1], 1))\n"
   ]
  },
  {
   "attachments": {},
   "cell_type": "markdown",
   "metadata": {},
   "source": [
    "## Model building"
   ]
  },
  {
   "cell_type": "code",
   "execution_count": 34,
   "metadata": {},
   "outputs": [
    {
     "name": "stdout",
     "output_type": "stream",
     "text": [
      "Epoch 1/3\n",
      "1953/1953 [==============================] - 81s 40ms/step - loss: 8.2641e-04\n",
      "Epoch 2/3\n",
      "1953/1953 [==============================] - 88s 45ms/step - loss: 2.9502e-04\n",
      "Epoch 3/3\n",
      "1953/1953 [==============================] - 90s 46ms/step - loss: 3.7715e-04\n"
     ]
    },
    {
     "data": {
      "text/plain": [
       "<keras.callbacks.History at 0x7f7177bb1630>"
      ]
     },
     "execution_count": 34,
     "metadata": {},
     "output_type": "execute_result"
    }
   ],
   "source": [
    "from keras.models import Sequential\n",
    "from keras.layers import Dense, LSTM\n",
    "\n",
    "# Build the LSTM model\n",
    "model = Sequential()\n",
    "model.add(LSTM(128, return_sequences=True, input_shape=(x_train.shape[1], 1)))\n",
    "model.add(LSTM(64, return_sequences=False))\n",
    "model.add(Dense(25))\n",
    "model.add(Dense(1))\n",
    "\n",
    "# Compile the model\n",
    "model.compile(optimizer='adam', loss='mean_squared_error')\n",
    "\n",
    "# Train the model\n",
    "model.fit(x_train, y_train, batch_size=1, epochs=3)\n"
   ]
  },
  {
   "cell_type": "code",
   "execution_count": 9,
   "metadata": {},
   "outputs": [
    {
     "name": "stdout",
     "output_type": "stream",
     "text": [
      "Keras model archive loading:\n",
      "File Name                                             Modified             Size\n",
      "config.json                                    2023-05-11 01:15:08         3068\n",
      "variables.h5                                   2023-05-11 01:15:08      1442504\n",
      "metadata.json                                  2023-05-11 01:15:08           64\n"
     ]
    },
    {
     "name": "stderr",
     "output_type": "stream",
     "text": [
      "2023-05-11 05:59:50.693244: W tensorflow/compiler/xla/stream_executor/platform/default/dso_loader.cc:64] Could not load dynamic library 'libcuda.so.1'; dlerror: libcuda.so.1: cannot open shared object file: No such file or directory\n",
      "2023-05-11 05:59:50.693292: W tensorflow/compiler/xla/stream_executor/cuda/cuda_driver.cc:265] failed call to cuInit: UNKNOWN ERROR (303)\n",
      "2023-05-11 05:59:50.693319: I tensorflow/compiler/xla/stream_executor/cuda/cuda_diagnostics.cc:156] kernel driver does not appear to be running on this host (glace): /proc/driver/nvidia/version does not exist\n",
      "2023-05-11 05:59:50.693667: I tensorflow/core/platform/cpu_feature_guard.cc:193] This TensorFlow binary is optimized with oneAPI Deep Neural Network Library (oneDNN) to use the following CPU instructions in performance-critical operations:  AVX2 FMA\n",
      "To enable them in other operations, rebuild TensorFlow with the appropriate compiler flags.\n"
     ]
    },
    {
     "name": "stdout",
     "output_type": "stream",
     "text": [
      "Keras weights file (<HDF5 file \"variables.h5\" (mode r)>) loading:\n",
      "...layers\n",
      "......dense\n",
      ".........vars\n",
      "............0\n",
      "............1\n",
      "......dense_1\n",
      ".........vars\n",
      "............0\n",
      "............1\n",
      "......lstm\n",
      ".........cell\n",
      "............vars\n",
      "...............0\n",
      "...............1\n",
      "...............2\n",
      ".........vars\n",
      "......lstm_1\n",
      ".........cell\n",
      "............vars\n",
      "...............0\n",
      "...............1\n",
      "...............2\n",
      ".........vars\n",
      "...metrics\n",
      "......mean\n",
      ".........vars\n",
      "............0\n",
      "............1\n",
      "...optimizer\n",
      "......vars\n",
      ".........0\n",
      ".........1\n",
      ".........10\n",
      ".........11\n",
      ".........12\n",
      ".........13\n",
      ".........14\n",
      ".........15\n",
      ".........16\n",
      ".........17\n",
      ".........18\n",
      ".........19\n",
      ".........2\n",
      ".........20\n",
      ".........3\n",
      ".........4\n",
      ".........5\n",
      ".........6\n",
      ".........7\n",
      ".........8\n",
      ".........9\n",
      "...vars\n"
     ]
    }
   ],
   "source": [
    "model = joblib.load('model/model.pkl')"
   ]
  },
  {
   "cell_type": "markdown",
   "metadata": {},
   "source": [
    "## Preparing testing dataset"
   ]
  },
  {
   "cell_type": "code",
   "execution_count": 10,
   "metadata": {},
   "outputs": [
    {
     "name": "stdout",
     "output_type": "stream",
     "text": [
      "(504, 60)\n",
      "(504, 60, 1)\n",
      "16/16 [==============================] - 2s 38ms/step\n",
      "LiDAR Accuracy 33.50179109482641\n"
     ]
    }
   ],
   "source": [
    "test_data = scaled[training_data_len - 60:, :]\n",
    "# Create the data sets x_test and y_test\n",
    "x_test = []\n",
    "y_test = dataset[training_data_len:, :]\n",
    "for i in range(60, len(test_data)):\n",
    "    x_test.append(test_data[i-60:i, 0])\n",
    "\n",
    "# Convert the data to a numpy array\n",
    "x_test = np.array(x_test)\n",
    "print(x_test.shape)\n",
    "# Reshape the data\n",
    "x_test = np.reshape(x_test, (x_test.shape[0], x_test.shape[1], 1))\n",
    "print(x_test.shape)\n",
    "\n",
    "# Get the models predicted price values\n",
    "predictions = model.predict(x_test)\n",
    "predictions = scaler.inverse_transform(predictions)\n",
    "\n",
    "# Get the root mean squared error (RMSE)\n",
    "rmse = np.sqrt(np.mean(((predictions - y_test) ** 2)))\n",
    "rmse\n",
    "acc = 1.96 * rmse  # LiDAR accuracy\n",
    "print(\"LiDAR Accuracy\",acc)\n"
   ]
  },
  {
   "attachments": {},
   "cell_type": "markdown",
   "metadata": {},
   "source": [
    "## Plotting the resulting graph"
   ]
  },
  {
   "cell_type": "code",
   "execution_count": 36,
   "metadata": {},
   "outputs": [
    {
     "name": "stderr",
     "output_type": "stream",
     "text": [
      "/tmp/ipykernel_37935/2211202552.py:4: SettingWithCopyWarning: \n",
      "A value is trying to be set on a copy of a slice from a DataFrame.\n",
      "Try using .loc[row_indexer,col_indexer] = value instead\n",
      "\n",
      "See the caveats in the documentation: https://pandas.pydata.org/pandas-docs/stable/user_guide/indexing.html#returning-a-view-versus-a-copy\n",
      "  valid['Predictions'] = predictions\n"
     ]
    },
    {
     "data": {
      "image/png": "[encoded data removed]",
      "text/plain": [
       "<Figure size 1600x600 with 1 Axes>"
      ]
     },
     "metadata": {},
     "output_type": "display_data"
    }
   ],
   "source": [
    "# Plot the data\n",
    "train = data[:training_data_len]\n",
    "valid = data[training_data_len:]\n",
    "valid['Predictions'] = predictions\n",
    "# Visualize the data\n",
    "plt.figure(figsize=(16, 6))\n",
    "plt.title('Model')\n",
    "plt.xlabel('Date', fontsize=18)\n",
    "plt.ylabel('Close Price USD ($)', fontsize=18)\n",
    "plt.plot(train['Close'])\n",
    "plt.plot(valid[['Close', 'Predictions']])\n",
    "plt.legend(['Train', 'Val', 'Predictions'], loc='lower right')\n",
    "plt.show()\n"
   ]
  },
  {
   "cell_type": "code",
   "execution_count": 37,
   "metadata": {},
   "outputs": [
    {
     "name": "stdout",
     "output_type": "stream",
     "text": [
      "Keras weights file (<HDF5 file \"variables.h5\" (mode r+)>) saving:\n",
      "...layers\n",
      "......dense\n",
      ".........vars\n",
      "............0\n",
      "............1\n",
      "......dense_1\n",
      ".........vars\n",
      "............0\n",
      "............1\n",
      "......lstm\n",
      ".........cell\n",
      "............vars\n",
      "...............0\n",
      "...............1\n",
      "...............2\n",
      ".........vars\n",
      "......lstm_1\n",
      ".........cell\n",
      "............vars\n",
      "...............0\n",
      "...............1\n",
      "...............2\n",
      ".........vars\n",
      "...metrics\n",
      "......mean\n",
      ".........vars\n",
      "............0\n",
      "............1\n",
      "...optimizer\n",
      "......vars\n",
      ".........0\n",
      ".........1\n",
      ".........10\n",
      ".........11\n",
      ".........12\n",
      ".........13\n",
      ".........14\n",
      ".........15\n",
      ".........16\n",
      ".........17\n",
      ".........18\n",
      ".........19\n",
      ".........2\n",
      ".........20\n",
      ".........3\n",
      ".........4\n",
      ".........5\n",
      ".........6\n",
      ".........7\n",
      ".........8\n",
      ".........9\n",
      "...vars\n",
      "Keras model archive saving:\n",
      "File Name                                             Modified             Size\n",
      "config.json                                    2023-05-11 01:15:08         3068\n",
      "variables.h5                                   2023-05-11 01:15:08      1442504\n",
      "metadata.json                                  2023-05-11 01:15:08           64\n"
     ]
    },
    {
     "data": {
      "text/plain": [
       "['model/model.pkl']"
      ]
     },
     "execution_count": 37,
     "metadata": {},
     "output_type": "execute_result"
    }
   ],
   "source": [
    "joblib.dump(model, 'model/model.pkl')"
   ]
  },
  {
   "attachments": {},
   "cell_type": "markdown",
   "metadata": {},
   "source": [
    "### predicting on real time"
   ]
  },
  {
   "cell_type": "code",
   "execution_count": 21,
   "metadata": {},
   "outputs": [
    {
     "name": "stdout",
     "output_type": "stream",
     "text": [
      "[*********************100%***********************]  1 of 1 completed\n",
      "                 Close\n",
      "Date                  \n",
      "2023-05-01  169.589996\n",
      "2023-05-02  168.539993\n",
      "2023-05-03  167.449997\n",
      "2023-05-04  165.789993\n",
      "2023-05-05  173.570007\n",
      "173.57000732421875\n",
      "before ----  (60, 1)\n",
      "after ------ (1, 60, 1)\n"
     ]
    }
   ],
   "source": [
    "end = datetime.now()\n",
    "end = end - timedelta(days=3)  # for testing purposes\n",
    "start = end - timedelta(days=160)\n",
    "yf.pdr_override()\n",
    "\n",
    "\n",
    "def get_data(ticker, start, end):\n",
    "    df = pdr.get_data_yahoo('AAPL', start, end)\n",
    "    return df\n",
    "\n",
    "\n",
    "df = get_data('AAPL', start, end)\n",
    "data = df.filter(['Close'])\n",
    "data = data.iloc[len(data)-60:]\n",
    "dataset = data.values\n",
    "prev = data.iloc[-1].values[0]\n",
    "print(data.tail())\n",
    "print(prev)\n",
    "scaler = MinMaxScaler(feature_range=(0, 1))\n",
    "scaled = scaler.fit_transform(dataset)\n",
    "print('before ---- ', scaled.shape)\n",
    "x_pred = np.reshape(scaled, (1,scaled.shape[0], 1))\n",
    "print('after ------', x_pred.shape)\n",
    "\n",
    "# pred = model.predict(x_pred)\n",
    "# pred_price = scaler.inverse_transform(pred)\n",
    "# pred_price = np.reshape(pred_price, 1)[0]\n",
    "# print(pred_price)\n"
   ]
  }
 ],
 "metadata": {
  "kernelspec": {
   "display_name": "AI-jDWcvdBT",
   "language": "python",
   "name": "python3"
  },
  "language_info": {
   "codemirror_mode": {
    "name": "ipython",
    "version": 3
   },
   "file_extension": ".py",
   "mimetype": "text/x-python",
   "name": "python",
   "nbconvert_exporter": "python",
   "pygments_lexer": "ipython3",
   "version": "3.10.6"
  },
  "orig_nbformat": 4
 },
 "nbformat": 4,
 "nbformat_minor": 2
}
